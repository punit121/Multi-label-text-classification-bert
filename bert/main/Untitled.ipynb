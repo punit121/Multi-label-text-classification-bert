{
 "cells": [
  {
   "cell_type": "code",
   "execution_count": 5,
   "metadata": {},
   "outputs": [
    {
     "name": "stdout",
     "output_type": "stream",
     "text": [
      "Traceback (most recent call last):\r\n",
      "  File \"bert_text_classification_sagemaker.py\", line 88, in <module>\r\n",
      "    train_deploy_chat_bert()\r\n",
      "  File \"bert_text_classification_sagemaker.py\", line 75, in train_deploy_chat_bert\r\n",
      "    estimator.fit(s3_input)\r\n",
      "  File \"/home/ec2-user/anaconda3/envs/JupyterSystemEnv/lib/python3.6/site-packages/sagemaker/estimator.py\", line 462, in fit\r\n",
      "    self.latest_training_job = _TrainingJob.start_new(self, inputs, experiment_config)\r\n",
      "  File \"/home/ec2-user/anaconda3/envs/JupyterSystemEnv/lib/python3.6/site-packages/sagemaker/estimator.py\", line 1015, in start_new\r\n",
      "    estimator.sagemaker_session.train(**train_args)\r\n",
      "  File \"/home/ec2-user/anaconda3/envs/JupyterSystemEnv/lib/python3.6/site-packages/sagemaker/session.py\", line 569, in train\r\n",
      "    self.sagemaker_client.create_training_job(**train_request)\r\n",
      "  File \"/home/ec2-user/anaconda3/envs/JupyterSystemEnv/lib/python3.6/site-packages/botocore/client.py\", line 276, in _api_call\r\n",
      "    return self._make_api_call(operation_name, kwargs)\r\n",
      "  File \"/home/ec2-user/anaconda3/envs/JupyterSystemEnv/lib/python3.6/site-packages/botocore/client.py\", line 586, in _make_api_call\r\n",
      "    raise error_class(parsed_response, operation_name)\r\n",
      "botocore.errorfactory.ResourceLimitExceeded: An error occurred (ResourceLimitExceeded) when calling the CreateTrainingJob operation: The requested resource training-job/ml.p3.2xlarge is not available in this region\r\n"
     ]
    }
   ],
   "source": [
    "!python bert_text_classification_sagemaker.py \n",
    "\n"
   ]
  },
  {
   "cell_type": "code",
   "execution_count": null,
   "metadata": {},
   "outputs": [],
   "source": []
  }
 ],
 "metadata": {
  "language_info": {
   "codemirror_mode": {
    "name": "ipython",
    "version": 3
   },
   "file_extension": ".py",
   "mimetype": "text/x-python",
   "name": "python",
   "nbconvert_exporter": "python",
   "pygments_lexer": "ipython3",
   "version": "3.6.10"
  }
 },
 "nbformat": 4,
 "nbformat_minor": 4
}
